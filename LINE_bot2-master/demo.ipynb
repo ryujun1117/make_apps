{
 "cells": [
  {
   "cell_type": "code",
   "execution_count": 14,
   "metadata": {},
   "outputs": [
    {
     "name": "stdout",
     "output_type": "stream",
     "text": [
      "Requirement already satisfied: line-bot-sdk in c:\\users\\ryuic\\anaconda3\\lib\\site-packages (1.17.0)\n",
      "Requirement already satisfied: future in c:\\users\\ryuic\\anaconda3\\lib\\site-packages (from line-bot-sdk) (0.18.2)\n",
      "Requirement already satisfied: requests>=2.0 in c:\\users\\ryuic\\anaconda3\\lib\\site-packages (from line-bot-sdk) (2.24.0)\n",
      "Requirement already satisfied: idna<3,>=2.5 in c:\\users\\ryuic\\anaconda3\\lib\\site-packages (from requests>=2.0->line-bot-sdk) (2.10)\n",
      "Requirement already satisfied: chardet<4,>=3.0.2 in c:\\users\\ryuic\\anaconda3\\lib\\site-packages (from requests>=2.0->line-bot-sdk) (3.0.4)\n",
      "Requirement already satisfied: urllib3!=1.25.0,!=1.25.1,<1.26,>=1.21.1 in c:\\users\\ryuic\\anaconda3\\lib\\site-packages (from requests>=2.0->line-bot-sdk) (1.25.9)\n",
      "Requirement already satisfied: certifi>=2017.4.17 in c:\\users\\ryuic\\anaconda3\\lib\\site-packages (from requests>=2.0->line-bot-sdk) (2020.6.20)\n"
     ]
    }
   ],
   "source": [
    "!pip install line-bot-sdk"
   ]
  },
  {
   "cell_type": "code",
   "execution_count": 21,
   "metadata": {},
   "outputs": [],
   "source": [
    "import json"
   ]
  },
  {
   "cell_type": "code",
   "execution_count": 22,
   "metadata": {},
   "outputs": [],
   "source": [
    "file = open(\"info.json\", \"r\")\n",
    "info = json.load(file)"
   ]
  },
  {
   "cell_type": "code",
   "execution_count": 23,
   "metadata": {},
   "outputs": [
    {
     "data": {
      "text/plain": [
       "{'CHANNEL_ACCESS_TOKEN': 'tAWsHPchliNsiTJ6+uFr4mIOLAqxocyOKzacEnG5rm0CRnvgeyY3dyFTBeh/L1NNmpTj8zeCJe+V7pfb6yC97BC0hWHIKIvGnUDvGGI5zPW9HQpwi+/KYdbMxvJKVDbKV2sDhthjSCngfb8aixzpxAdB04t89/1O/w1cDnyilFU=',\n",
       " 'USER_ID': 'U4740b798bb35930fc676a0362284e5bb'}"
      ]
     },
     "execution_count": 23,
     "metadata": {},
     "output_type": "execute_result"
    }
   ],
   "source": [
    "info"
   ]
  },
  {
   "cell_type": "code",
   "execution_count": 24,
   "metadata": {},
   "outputs": [],
   "source": [
    "from linebot import LineBotApi\n",
    "from linebot.models import TextSendMessage"
   ]
  },
  {
   "cell_type": "code",
   "execution_count": 31,
   "metadata": {},
   "outputs": [],
   "source": [
    "CHANNEL_ACCESS_TOKEN = info[\"CHANNEL_ACCESS_TOKEN\"]\n",
    "line_bot_api=LineBotApi(CHANNEL_ACCESS_TOKEN)"
   ]
  },
  {
   "cell_type": "code",
   "execution_count": 36,
   "metadata": {},
   "outputs": [],
   "source": [
    "def main():\n",
    "    USER_ID = info[\"USER_ID\"]\n",
    "    messages= TextSendMessage(text=\"おはよ～ \\n あさだよんおきて\")\n",
    "    line_bot_api.push_message(USER_ID, messages=messages)\n",
    "    \n",
    "    messages_1= TextSendMessage(text=\"連投！\")\n",
    "    line_bot_api.push_message(USER_ID, messages=messages_1)\n",
    "    \n",
    "if __name__ == \"__main__\":\n",
    "    main()"
   ]
  },
  {
   "cell_type": "code",
   "execution_count": null,
   "metadata": {},
   "outputs": [],
   "source": []
  },
  {
   "cell_type": "code",
   "execution_count": null,
   "metadata": {},
   "outputs": [],
   "source": []
  }
 ],
 "metadata": {
  "kernelspec": {
   "display_name": "Python 3",
   "language": "python",
   "name": "python3"
  },
  "language_info": {
   "codemirror_mode": {
    "name": "ipython",
    "version": 3
   },
   "file_extension": ".py",
   "mimetype": "text/x-python",
   "name": "python",
   "nbconvert_exporter": "python",
   "pygments_lexer": "ipython3",
   "version": "3.8.3"
  }
 },
 "nbformat": 4,
 "nbformat_minor": 4
}
